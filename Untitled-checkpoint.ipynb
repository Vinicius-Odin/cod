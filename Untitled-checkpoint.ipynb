{
 "cells": [
  {
   "cell_type": "code",
   "execution_count": 2,
   "id": "e23d9f65",
   "metadata": {},
   "outputs": [
    {
     "name": "stdout",
     "output_type": "stream",
     "text": [
      "        Candidato Nº de Votos Porcentagem\n",
      "0            LULA    57259504       48,43\n",
      "1  JAIR BOLSONARO    51072345       43,20\n",
      "2    SIMONE TEBET     4915423        4,16\n",
      "3      CIRO GOMES     3599287        3,04\n"
     ]
    }
   ],
   "source": [
    "# primeiro Turno\n",
    "\n",
    "import requests\n",
    "import json\n",
    "import pandas as pd\n",
    "\n",
    "data = requests.get(\n",
    "    'https://resultados.tse.jus.br/oficial/ele2022/544/dados-simplificados/br/br-c0001-e000544-r.json')\n",
    "\n",
    "json_data = json.loads(data.content)\n",
    "\n",
    "candidato = []\n",
    "partido = []\n",
    "votos = []\n",
    "porcentagem = []\n",
    "\n",
    "for informacoes in json_data['cand']:\n",
    "    \n",
    "    if informacoes['seq'] in ['1', '2', '3', '4']:\n",
    "        candidato.append(informacoes['nm'])\n",
    "        votos.append(informacoes['vap'])\n",
    "        porcentagem.append(informacoes['pvap'])\n",
    "        \n",
    "df_eleicao = pd.DataFrame(list(zip(candidato, votos, porcentagem)), columns = [\n",
    "    'Candidato', 'Nº de Votos', 'Porcentagem'\n",
    "])\n",
    "\n",
    "print(df_eleicao)"
   ]
  },
  {
   "cell_type": "code",
   "execution_count": 2,
   "id": "7f7320b0",
   "metadata": {},
   "outputs": [
    {
     "name": "stdout",
     "output_type": "stream",
     "text": [
      "        Candidato Nº de Votos Porcentagem\n",
      "0            LULA    60345999       50,90\n",
      "1  JAIR BOLSONARO    58206354       49,10\n"
     ]
    }
   ],
   "source": [
    "# segundo Turno\n",
    "\n",
    "import requests\n",
    "import json\n",
    "import pandas as pd\n",
    "\n",
    "data = requests.get(\n",
    "    'https://resultados.tse.jus.br/oficial/ele2022/545/dados-simplificados/br/br-c0001-e000545-r.json')\n",
    "    \n",
    "json_data = json.loads(data.content)\n",
    "\n",
    "candidato = []\n",
    "partido = []\n",
    "votos = []\n",
    "porcentagem = []\n",
    "\n",
    "for informacoes in json_data['cand']:\n",
    "    \n",
    "    if informacoes['seq'] in ['1', '2', '3', '4']:\n",
    "        candidato.append(informacoes['nm'])\n",
    "        votos.append(informacoes['vap'])\n",
    "        porcentagem.append(informacoes['pvap'])\n",
    "        \n",
    "df_eleicao = pd.DataFrame(list(zip(candidato, votos, porcentagem)), columns = [\n",
    "    'Candidato', 'Nº de Votos', 'Porcentagem'\n",
    "])\n",
    "\n",
    "print(df_eleicao)"
   ]
  },
  {
   "cell_type": "code",
   "execution_count": null,
   "id": "733e2d4b",
   "metadata": {},
   "outputs": [],
   "source": []
  }
 ],
 "metadata": {
  "kernelspec": {
   "display_name": "Python 3 (ipykernel)",
   "language": "python",
   "name": "python3"
  },
  "language_info": {
   "codemirror_mode": {
    "name": "ipython",
    "version": 3
   },
   "file_extension": ".py",
   "mimetype": "text/x-python",
   "name": "python",
   "nbconvert_exporter": "python",
   "pygments_lexer": "ipython3",
   "version": "3.9.12"
  }
 },
 "nbformat": 4,
 "nbformat_minor": 5
}
